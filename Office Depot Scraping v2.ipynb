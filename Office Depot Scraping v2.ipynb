{
 "cells": [
  {
   "cell_type": "code",
   "execution_count": 1,
   "metadata": {},
   "outputs": [],
   "source": [
    "\n",
    "import bs4\n",
    "from urllib.request import urlopen as uReg\n",
    "from bs4 import BeautifulSoup as soup\n",
    "import requests\n"
   ]
  },
  {
   "cell_type": "code",
   "execution_count": 2,
   "metadata": {},
   "outputs": [],
   "source": [
    "my_url = 'https://www.officedepot.com/a/browse/desktop-pcs/N=5+967588/'"
   ]
  },
  {
   "cell_type": "code",
   "execution_count": 3,
   "metadata": {},
   "outputs": [],
   "source": [
    "# opening up the connection, grabbing the page\n",
    "uClient = uReg(my_url)\n",
    "page_html = uClient.read()\n",
    "uClient.close()\n",
    "\n",
    "# html parsing \n",
    "page_soup = soup(page_html, \"html.parser\")"
   ]
  },
  {
   "cell_type": "code",
   "execution_count": 4,
   "metadata": {},
   "outputs": [],
   "source": [
    "my_url = 'https://www.officedepot.com/a/browse/desktop-pcs/N=5+967588/'\n",
    "\n",
    "next_page = '&recordsPerPageNumber=24&No='\n",
    "\n",
    "pages = 144\n",
    "\n",
    "page_list = [f'{my_url}{next_page}{i}'for i in range(24, pages, 24)]"
   ]
  },
  {
   "cell_type": "code",
   "execution_count": 5,
   "metadata": {},
   "outputs": [],
   "source": [
    "def get_pages(url):\n",
    "    # opening up the connection, grabbing the page\n",
    "    uClient = uReg(my_url)\n",
    "    page_html = uClient.read()\n",
    "    uClient.close()\n",
    "\n",
    "    # html parsing \n",
    "    page_soup = soup(page_html, \"html.parser\")\n",
    "    \n",
    "    return page_soup"
   ]
  },
  {
   "cell_type": "code",
   "execution_count": 6,
   "metadata": {},
   "outputs": [],
   "source": [
    "#get_pages(page_list[1])"
   ]
  },
  {
   "cell_type": "code",
   "execution_count": 7,
   "metadata": {},
   "outputs": [],
   "source": [
    "scraped_html = []\n",
    "\n",
    "for url in page_list:\n",
    "    html = get_pages(url)\n",
    "    scraped_html.append(html)"
   ]
  },
  {
   "cell_type": "code",
   "execution_count": 8,
   "metadata": {},
   "outputs": [],
   "source": [
    "#page_soup.h1\n"
   ]
  },
  {
   "cell_type": "code",
   "execution_count": 9,
   "metadata": {},
   "outputs": [],
   "source": [
    "#page_soup.p"
   ]
  },
  {
   "cell_type": "code",
   "execution_count": 10,
   "metadata": {},
   "outputs": [],
   "source": [
    "# downline from Body tag in the inspect file\n",
    "#page_soup.body.span"
   ]
  },
  {
   "cell_type": "code",
   "execution_count": 11,
   "metadata": {},
   "outputs": [],
   "source": [
    "# grabs each product\n",
    "containers = page_soup.find_all(\"div\",{\"class\":\"sku_description_wrapper\"})\n",
    "#containers1 = page_soup.find_all(\"div\",{\"class\":\"price_container.right\"})"
   ]
  },
  {
   "cell_type": "code",
   "execution_count": 12,
   "metadata": {},
   "outputs": [
    {
     "data": {
      "text/plain": [
       "24"
      ]
     },
     "execution_count": 12,
     "metadata": {},
     "output_type": "execute_result"
    }
   ],
   "source": [
    "len(containers)\n"
   ]
  },
  {
   "cell_type": "code",
   "execution_count": 13,
   "metadata": {
    "scrolled": true
   },
   "outputs": [],
   "source": [
    "\n",
    "#contain = containers[0]\n",
    "container = containers[0]\n",
    "#container2 = containers1[0]\n"
   ]
  },
  {
   "cell_type": "code",
   "execution_count": 14,
   "metadata": {},
   "outputs": [],
   "source": [
    "#container.div.a"
   ]
  },
  {
   "cell_type": "code",
   "execution_count": 15,
   "metadata": {},
   "outputs": [],
   "source": [
    "  #title_container = container.find_all(\"span\", {\"class\":\"price_column right \"})\n",
    "  \n",
    "  #print(title_container)  "
   ]
  },
  {
   "cell_type": "code",
   "execution_count": 16,
   "metadata": {},
   "outputs": [
    {
     "data": {
      "text/plain": [
       "21"
      ]
     },
     "execution_count": 16,
     "metadata": {},
     "output_type": "execute_result"
    }
   ],
   "source": [
    "filename = \"od_desktops.csv\"\n",
    "f = open(filename, \"w\")\n",
    "\n",
    "headers = \"product_name, price,\\n\"\n",
    "\n",
    "f.write(headers)"
   ]
  },
  {
   "cell_type": "code",
   "execution_count": 17,
   "metadata": {},
   "outputs": [
    {
     "name": "stdout",
     "output_type": "stream",
     "text": [
      "product_name: Dell™ Inspiron 3670 Desktop PC, 8th Gen Intel® Core™ i5, 12GB Memory, 1TB Hard Drive, Windows® 10 Home\n",
      "price: $529.99\n",
      "product_name: Lenovo® IdeaCentre 510A Desktop PC, 9th Gen Intel® Core™ i5, 8GB Memory/16GB Intel Optane™ Memory, 1TB Hard Drive, Windows® 10 Home, 90HV001PUS\n",
      "price: $539.99\n",
      "product_name: Dell™ Inspiron 3670 Desktop PC, 8th Gen Intel® Core™ i3, 8GB Memory, 1TB Hard Drive, Windows® 10 Home\n",
      "price: $379.99\n",
      "product_name: Dell™ Inspiron 3472 Desktop PC, Intel® Pentium® Silver, 4GB Memory, 1TB Hard Drive, Windows® 10, I3472-P975BLK-PUS\n",
      "price: $249.99\n",
      "product_name: Lenovo® IdeaCentre 510A Desktop PC, AMD Ryzen 3, 8GB Memory, 1TB Hard Drive, Windows® 10 Home\n",
      "price: $349.99\n",
      "product_name: HP Pavilion 590-p0086 Desktop PC, 8th Gen Intel® Core™ i7+, 8GB Memory/ 16GB Intel® Optane™ Memory, 1TB Hard Drive, Windows® 10 Home\n",
      "price: $719.99\n",
      "product_name: HP ENVY 795-0020 Desktop PC, 8th Gen Intel® Core™ i7, 12GB Memory, 1TB Hard Drive/256GB Solid State Drive, Windows® 10 Home, Radeon RX 550\n",
      "price: $879.99\n",
      "product_name: HP Elite 8200 Refurbished Desktop PC, 2nd Gen Intel® Core™ i5, 8GB Memory, 2TB Hard Drive, Windows® 10 Professional\n",
      "price: $189.99\n",
      "product_name: Dell™ Inspiron 3477 All-In-One PC, 23.8\" Touch Screen, Intel® Core™ i3, 8GB Memory, 1TB Hard Drive, Windows® 10, I3477-3666GLD-PUS\n",
      "price: $439.99\n",
      "product_name: Asus Chromebox 3 CHROMEBOX 3-N017U Chromebox - Celeron 3865U - 4 GB RAM - 32 GB SSD - Mini PC - Chrome OS - Intel HD Graphics 610 - Wireless LAN - Bluetooth\n",
      "price: $255.00\n",
      "product_name: HP Pavilion 590-p0016 Desktop PC, 8th Gen Intel® Core™ i3, 8GB Memory/16GB Intel Optane™ Memory, 1TB Hard Drive, Windows® 10 Home\n",
      "price: $399.99\n",
      "product_name: Lenovo ThinkCentre M710s 10M7000QUS Desktop Computer - Core i5 i5-7400 - 8 GB RAM - 256 GB SSD - Small Form Factor - Black - Windows 10 Pro 64-bit - Intel HD Graphics 630 - DVD-Writer - English Keyboard\n",
      "price: $749.99\n",
      "product_name: Lenovo® IdeaCentre 720 Desktop PC, AMD Ryzen, Radeon® RX 560, 16GB Memory, 128GB SSD/2TB Hard Drive, Windows® 10\n",
      "price: $799.99\n",
      "product_name: Lenovo® ThinkCentre® M93 Refurbished Desktop PC, 4th Gen Intel® Core™ i5, 8GB Memory, 500GB Hard Drive, Windows® 10 Professional\n",
      "price: $189.99\n",
      "product_name: HP EliteDesk 800 G1 Refurbished Desktop PC, 4th Gen Intel® Core™ i5, 8GB Memory, 500GB Hard Drive, Windows® 10 Professional\n",
      "price: $259.99\n",
      "product_name: Dell™ Optiplex 790 Refurbished Desktop PC, 2nd Gen Intel® Core™ i5, 8GB Memory, 500 Hard Drive, Windows® 10 Professional\n",
      "price: $199.99\n",
      "product_name: HP Pavilion 590-p0076 Desktop PC, AMD Ryzen™ 5, 8GB Memory, 1TB Hard Drive, Windows® 10 Home\n",
      "price: $449.99\n",
      "product_name: Dell™ Optiplex 9020 Refurbished Desktop PC, 4th Gen Intel® Core™ i7, 16GB Memory, 2TB Hard Drive, Windows® 10 Professional\n",
      "price: $489.99\n",
      "product_name: HP EliteDesk 800 G1 Refurbished Desktop PC, 4th Gen Intel® Core™ i7, 16GB Memory, 2TB Hard Drive, Windows® 10 Professional\n",
      "price: $479.99\n",
      "product_name: HP 8200 Elite Refurbished Desktop PC, Intel® Core™ i5, 8GB Memory, 500GB Hard Drive, Windows® 10, OD2-0143\n",
      "price: $179.99\n",
      "product_name: Asus Chromebox 3 CHROMEBOX 3-N020U Chromebox - Core i7 i7-8550U - 8 GB RAM - 32 GB SSD - Mini PC - Chrome OS - Intel HD Graphics 620 - Wireless LAN - Bluetooth\n",
      "price: $704.99\n",
      "product_name: HP Pavilion 590-p0050 Desktop PC, 8th Gen Intel® Core™ i5+, 8GB Memory/16GB Intel® Optane™ Memory, 1TB Hard Drive, Windows® 10 Home\n",
      "price: $544.99\n",
      "product_name: Dell™ Optiplex 990 Refurbished Desktop PC, Intel® Core™ i7, 8GB Memory, 1TB Hard Drive, Windows® 10\n",
      "price: $309.99\n",
      "product_name: HP ENVY 795-0010 Desktop PC, 8th Gen Intel® Core™ i5, 12GB Memory, 1TB Hard Drive/256GB Solid State Drive, Windows® 10 Home\n",
      "price: $839.99\n"
     ]
    }
   ],
   "source": [
    "for container in containers:\n",
    "    \n",
    "    #title_container = container.div.a.img[\"title\"]\n",
    "    title_container = container.findAll(\"div\", {\"class\":\"desc_text\"})\n",
    "    product_name = title_container[0].text.strip()\n",
    "    \n",
    "    \n",
    "    price_container = container.findAll(\"span\", {\"class\":\"price_column right \"})\n",
    "    price = price_container[0].text.strip()\n",
    "    \n",
    "    #sku_container = container.findAll(\"div\", {\"class\":\"item_sku gray med_txt\"})\n",
    "    #sku_id = sku_container.text.strip()\n",
    "    \n",
    "    print(\"product_name: \" + product_name)\n",
    "    print(\"price: \" + price)\n",
    "    #print(\"sku: \" + sku_id)\n",
    "\n",
    "    \n",
    "    f.write(product_name.replace(\",\", \"|\") + \",\" + price + \",\" +\"\\n\")\n",
    "    \n",
    "f.close()\n",
    "    "
   ]
  },
  {
   "cell_type": "code",
   "execution_count": null,
   "metadata": {},
   "outputs": [],
   "source": []
  }
 ],
 "metadata": {
  "kernelspec": {
   "display_name": "Python 3",
   "language": "python",
   "name": "python3"
  },
  "language_info": {
   "codemirror_mode": {
    "name": "ipython",
    "version": 3
   },
   "file_extension": ".py",
   "mimetype": "text/x-python",
   "name": "python",
   "nbconvert_exporter": "python",
   "pygments_lexer": "ipython3",
   "version": "3.7.0"
  }
 },
 "nbformat": 4,
 "nbformat_minor": 2
}
